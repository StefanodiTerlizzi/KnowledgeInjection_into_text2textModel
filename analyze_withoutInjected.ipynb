{
 "cells": [
  {
   "cell_type": "code",
   "execution_count": 2,
   "id": "d5e78739-7446-44b5-90a3-32da26ac05f4",
   "metadata": {},
   "outputs": [],
   "source": [
    "#ANALYZE"
   ]
  },
  {
   "cell_type": "code",
   "execution_count": 6,
   "id": "97045f16-fd08-44a3-bc46-3287417f0e7a",
   "metadata": {},
   "outputs": [],
   "source": [
    "import os\n",
    "import pickle as pk\n",
    "import matplotlib.pyplot as plt\n",
    "import numpy as np"
   ]
  },
  {
   "cell_type": "code",
   "execution_count": 7,
   "id": "a425a73b-1325-45c5-b39c-ed08d0701b56",
   "metadata": {},
   "outputs": [],
   "source": [
    "filenames = os.listdir('results')"
   ]
  },
  {
   "cell_type": "code",
   "execution_count": 8,
   "id": "d1d07b64-7691-4d4a-8de4-530b9e035470",
   "metadata": {},
   "outputs": [
    {
     "data": {
      "text/plain": [
       "['.ipynb_checkpoints',\n",
       " 'flan-t5-small_withInjection.pickle',\n",
       " 'flan-t5-small_withoutInjection.pickle',\n",
       " 'flan-t5-large_withoutInjection.pickle',\n",
       " 'flan-t5-large_withInjection.pickle',\n",
       " 'batches',\n",
       " 'flan-t5-small__withInjection.json',\n",
       " 'flan-t5-large__withInjection.json']"
      ]
     },
     "execution_count": 8,
     "metadata": {},
     "output_type": "execute_result"
    }
   ],
   "source": [
    "filenames"
   ]
  },
  {
   "cell_type": "code",
   "execution_count": 9,
   "id": "6a503de9-593c-48b5-b2b3-f883f1a06f41",
   "metadata": {},
   "outputs": [],
   "source": [
    "small, large = pk.load(open('results/flan-t5-small_withoutInjection.pickle', 'rb')), pk.load(open('results/flan-t5-large_withoutInjection.pickle', 'rb'))"
   ]
  },
  {
   "cell_type": "code",
   "execution_count": 10,
   "id": "d4de7f8b-8511-46e4-8b73-58c17a962167",
   "metadata": {},
   "outputs": [
    {
     "data": {
      "text/plain": [
       "(1000, 1000)"
      ]
     },
     "execution_count": 10,
     "metadata": {},
     "output_type": "execute_result"
    }
   ],
   "source": [
    "len(small), len(large)"
   ]
  },
  {
   "cell_type": "code",
   "execution_count": 11,
   "id": "ff7009da-30dd-47c1-9c35-032aa05d7352",
   "metadata": {},
   "outputs": [
    {
     "data": {
      "text/plain": [
       "([{'question': 'Which position did Knox Cunningham hold from May 1955 to Apr 1956?',\n",
       "   'targetWithSimilarityScore': [('Ulster Unionist MP for South Antrim', 0.0)],\n",
       "   'response': 'vice president'},\n",
       "  {'question': 'Which position did Knox Cunningham hold from Apr 1956 to Oct 1956?',\n",
       "   'targetWithSimilarityScore': [('delegate to the Council of Europe and Western European Union Parliamentary Assembly',\n",
       "     0.0)],\n",
       "   'response': 'vice president'}],\n",
       " [{'question': 'Which position did Knox Cunningham hold from May 1955 to Apr 1956?',\n",
       "   'targetWithSimilarityScore': [('Ulster Unionist MP for South Antrim',\n",
       "     0.026862676757433566)],\n",
       "   'response': 'secretary of state for foreign affairs'},\n",
       "  {'question': 'Which position did Knox Cunningham hold from Apr 1956 to Oct 1956?',\n",
       "   'targetWithSimilarityScore': [('delegate to the Council of Europe and Western European Union Parliamentary Assembly',\n",
       "     0.028494744697361747)],\n",
       "   'response': 'secretary of state for foreign affairs'}])"
      ]
     },
     "execution_count": 11,
     "metadata": {},
     "output_type": "execute_result"
    }
   ],
   "source": [
    "small[:2], large[:2]"
   ]
  },
  {
   "cell_type": "code",
   "execution_count": 12,
   "id": "13d43388-bb47-4c4f-882d-327dd33004db",
   "metadata": {},
   "outputs": [],
   "source": [
    "for e in small:\n",
    "    e['targetWithSimilarityScore'] = max(e['targetWithSimilarityScore'], key=lambda x: x[1])\n",
    "for e in large:\n",
    "    e['targetWithSimilarityScore'] = max(e['targetWithSimilarityScore'], key=lambda x: x[1])"
   ]
  },
  {
   "cell_type": "code",
   "execution_count": 13,
   "id": "946f532b-e747-4636-8a63-54c4701d61af",
   "metadata": {},
   "outputs": [
    {
     "data": {
      "text/plain": [
       "([{'question': 'Which position did Knox Cunningham hold from May 1955 to Apr 1956?',\n",
       "   'targetWithSimilarityScore': ('Ulster Unionist MP for South Antrim', 0.0),\n",
       "   'response': 'vice president'},\n",
       "  {'question': 'Which position did Knox Cunningham hold from Apr 1956 to Oct 1956?',\n",
       "   'targetWithSimilarityScore': ('delegate to the Council of Europe and Western European Union Parliamentary Assembly',\n",
       "    0.0),\n",
       "   'response': 'vice president'}],\n",
       " [{'question': 'Which position did Knox Cunningham hold from May 1955 to Apr 1956?',\n",
       "   'targetWithSimilarityScore': ('Ulster Unionist MP for South Antrim',\n",
       "    0.026862676757433566),\n",
       "   'response': 'secretary of state for foreign affairs'},\n",
       "  {'question': 'Which position did Knox Cunningham hold from Apr 1956 to Oct 1956?',\n",
       "   'targetWithSimilarityScore': ('delegate to the Council of Europe and Western European Union Parliamentary Assembly',\n",
       "    0.028494744697361747),\n",
       "   'response': 'secretary of state for foreign affairs'}])"
      ]
     },
     "execution_count": 13,
     "metadata": {},
     "output_type": "execute_result"
    }
   ],
   "source": [
    "small[:2], large[:2]"
   ]
  },
  {
   "cell_type": "code",
   "execution_count": 14,
   "id": "bca76b7b-4f6b-4913-bcc7-ef05496e7b8f",
   "metadata": {},
   "outputs": [
    {
     "data": {
      "text/plain": [
       "(0.012771493964439077, 0.044100583481642676)"
      ]
     },
     "execution_count": 14,
     "metadata": {},
     "output_type": "execute_result"
    }
   ],
   "source": [
    "np.mean([e['targetWithSimilarityScore'][1] for e in small]), np.mean([e['targetWithSimilarityScore'][1] for e in large])"
   ]
  },
  {
   "cell_type": "code",
   "execution_count": 19,
   "id": "10371ebc-ab6a-41c7-9bbf-e56327a532d6",
   "metadata": {},
   "outputs": [
    {
     "data": {
      "text/plain": [
       "0.0"
      ]
     },
     "execution_count": 19,
     "metadata": {},
     "output_type": "execute_result"
    }
   ],
   "source": [
    "small[0]['targetWithSimilarityScore'][1]"
   ]
  },
  {
   "cell_type": "code",
   "execution_count": 26,
   "id": "fa7249d1-279a-4d8d-8708-2d252a75b3c0",
   "metadata": {},
   "outputs": [
    {
     "name": "stdout",
     "output_type": "stream",
     "text": [
      "0.066\n",
      "0.183\n"
     ]
    }
   ],
   "source": [
    "print(len([x for x in small if x['targetWithSimilarityScore'][1] != 0.0]) / 1000)\n",
    "print(len([x for x in large if x['targetWithSimilarityScore'][1] != 0.0]) / 1000)"
   ]
  },
  {
   "cell_type": "code",
   "execution_count": 16,
   "id": "98c06244-c823-455f-8d9c-d2741ca732c9",
   "metadata": {},
   "outputs": [
    {
     "data": {
      "image/png": "[encoded data removed]",
      "text/plain": [
       "<Figure size 800x600 with 1 Axes>"
      ]
     },
     "metadata": {},
     "output_type": "display_data"
    }
   ],
   "source": [
    "# Creating histogram\n",
    "plt.figure(figsize=(8, 6))\n",
    "\n",
    "plt.hist([e['targetWithSimilarityScore'][1] for e in small], alpha=0.5, color='g', label='small')\n",
    "plt.hist([e['targetWithSimilarityScore'][1] for e in large], alpha=0.5, color='b', label='large')\n",
    "\n",
    "#plt.hist([e['targetWithSimilarityScore'][1] for e in small], 50, density=True, histtype='step', alpha=0.75)\n",
    "#plt.hist([e['targetWithSimilarityScore'][1] for e in large], 50, density=True, histtype='step', alpha=0.75)\n",
    "\n",
    "plt.legend()\n",
    "# Adding title and labels\n",
    "plt.title('Distribution of Scores')\n",
    "plt.xlabel('Score')\n",
    "plt.ylabel('Frequency')\n",
    "# Show plot\n",
    "#plt.grid(True)\n",
    "plt.show()"
   ]
  }
 ],
 "metadata": {
  "kernelspec": {
   "display_name": "venv",
   "language": "python",
   "name": "venv"
  },
  "language_info": {
   "codemirror_mode": {
    "name": "ipython",
    "version": 3
   },
   "file_extension": ".py",
   "mimetype": "text/x-python",
   "name": "python",
   "nbconvert_exporter": "python",
   "pygments_lexer": "ipython3",
   "version": "3.11.6"
  }
 },
 "nbformat": 4,
 "nbformat_minor": 5
}
